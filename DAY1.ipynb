{
  "nbformat": 4,
  "nbformat_minor": 0,
  "metadata": {
    "colab": {
      "name": "DAY1.ipynb",
      "version": "0.3.2",
      "provenance": [],
      "include_colab_link": true
    },
    "kernelspec": {
      "name": "python3",
      "display_name": "Python 3"
    }
  },
  "cells": [
    {
      "cell_type": "markdown",
      "metadata": {
        "id": "view-in-github",
        "colab_type": "text"
      },
      "source": [
        "<a href=\"https://colab.research.google.com/github/idawud/Elite-ML/blob/master/DAY1.ipynb\" target=\"_parent\"><img src=\"https://colab.research.google.com/assets/colab-badge.svg\" alt=\"Open In Colab\"/></a>"
      ]
    },
    {
      "cell_type": "code",
      "metadata": {
        "id": "_4i-ScK7d29M",
        "colab_type": "code",
        "outputId": "8a1f922c-277e-4274-f4e5-3c3e76ea7cdd",
        "colab": {
          "base_uri": "https://localhost:8080/",
          "height": 34
        }
      },
      "source": [
        "import tensorflow as tf\n",
        "print(tf.__version__)"
      ],
      "execution_count": 0,
      "outputs": [
        {
          "output_type": "stream",
          "text": [
            "1.14.0\n"
          ],
          "name": "stdout"
        }
      ]
    },
    {
      "cell_type": "code",
      "metadata": {
        "id": "QmEUqm_FgXeW",
        "colab_type": "code",
        "outputId": "62d688d4-6bb5-49f7-d45f-0b1658b9929c",
        "colab": {
          "base_uri": "https://localhost:8080/",
          "height": 52
        }
      },
      "source": [
        "name = input(\"What is your name: \")\n",
        "print(\"Your name is \" + name)"
      ],
      "execution_count": 0,
      "outputs": [
        {
          "output_type": "stream",
          "text": [
            "What is your name: papa yaw\n",
            "Your name is papa yaw\n"
          ],
          "name": "stdout"
        }
      ]
    },
    {
      "cell_type": "code",
      "metadata": {
        "id": "MUmGXFdTmGMS",
        "colab_type": "code",
        "outputId": "8e431bd8-9d27-4d10-e0ce-ca5147b9890f",
        "colab": {
          "base_uri": "https://localhost:8080/",
          "height": 68
        }
      },
      "source": [
        "import tensorflow as tf\n",
        "\n",
        "user =tf.Variable(input(\"Enter your name: \\n\"))\n",
        "with tf.compat.v1.Session() as sessionStart:\n",
        "  sessionStart.run(tf.global_variables_initializer())\n",
        "  sessionStart = sessionStart.run(user)\n",
        "print(\"Hi, I'm \", sessionStart, \"! I'm doing machine learning !!!\")"
      ],
      "execution_count": 0,
      "outputs": [
        {
          "output_type": "stream",
          "text": [
            "Enter your name: \n",
            "ophelia\n",
            "Hi, I'm  b'ophelia' ! I'm doing machine learning !!!\n"
          ],
          "name": "stdout"
        }
      ]
    },
    {
      "cell_type": "code",
      "metadata": {
        "id": "_Yt6gZM-o3Ce",
        "colab_type": "code",
        "outputId": "18a832a7-d9c4-4a4c-aff4-918e72317d88",
        "colab": {
          "base_uri": "https://localhost:8080/",
          "height": 34
        }
      },
      "source": [
        "import tensorflow as tf\n",
        "\n",
        "x = tf.constant(5)\n",
        "y = tf.constant(5)\n",
        "my_sum = tf.add(x, y)\n",
        "\n",
        "with tf.compat.v1.Session() as sess:\n",
        "  print(my_sum.eval())"
      ],
      "execution_count": 0,
      "outputs": [
        {
          "output_type": "stream",
          "text": [
            "10\n"
          ],
          "name": "stdout"
        }
      ]
    }
  ]
}