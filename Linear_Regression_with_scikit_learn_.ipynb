{
  "nbformat": 4,
  "nbformat_minor": 0,
  "metadata": {
    "colab": {
      "name": "Linear Regression with scikit-learn .ipynb",
      "version": "0.3.2",
      "provenance": [],
      "collapsed_sections": [],
      "include_colab_link": true
    },
    "kernelspec": {
      "name": "python3",
      "display_name": "Python 3"
    }
  },
  "cells": [
    {
      "cell_type": "markdown",
      "metadata": {
        "id": "view-in-github",
        "colab_type": "text"
      },
      "source": [
        "<a href=\"https://colab.research.google.com/github/idawud/Elite-ML/blob/master/Linear_Regression_with_scikit_learn_.ipynb\" target=\"_parent\"><img src=\"https://colab.research.google.com/assets/colab-badge.svg\" alt=\"Open In Colab\"/></a>"
      ]
    },
    {
      "cell_type": "markdown",
      "metadata": {
        "id": "5CIJc3MDRl6R",
        "colab_type": "text"
      },
      "source": [
        "**Sample Training Set**\n",
        "<br>\n",
        "# (x1 + 2*x2 + 3*x3)\n",
        "\n",
        "## How To Generate Training Set"
      ]
    },
    {
      "cell_type": "code",
      "metadata": {
        "id": "BrSE_voPPt7z",
        "colab_type": "code",
        "colab": {
          "base_uri": "https://localhost:8080/",
          "height": 53
        },
        "outputId": "04c288d2-7031-40ba-84c7-e8576c159178"
      },
      "source": [
        "from random import randint\n",
        "TRAIN_SET_LIMIT = 1000\n",
        "TRAIN_SET_COUNT = 100\n",
        "\n",
        "TRAIN_INPUT = list()\n",
        "TRAIN_OUTPUT = list()\n",
        "for i in range(TRAIN_SET_COUNT):\n",
        "    a = randint(0, TRAIN_SET_LIMIT)\n",
        "    b = randint(0, TRAIN_SET_LIMIT)\n",
        "    c = randint(0, TRAIN_SET_LIMIT)\n",
        "    op = a + (2*b) + (3*c)\n",
        "    TRAIN_INPUT.append([a, b, c])\n",
        "    TRAIN_OUTPUT.append(op)\n",
        "    \n",
        "print(TRAIN_INPUT)"
      ],
      "execution_count": 15,
      "outputs": [
        {
          "output_type": "stream",
          "text": [
            "[[229, 27, 149], [388, 656, 749], [352, 609, 342], [977, 64, 939], [186, 6, 609], [265, 437, 892], [90, 946, 465], [393, 480, 214], [952, 328, 384], [516, 430, 532], [133, 129, 218], [922, 945, 932], [814, 921, 888], [442, 953, 668], [580, 713, 397], [350, 449, 336], [197, 9, 608], [301, 826, 503], [998, 485, 653], [697, 351, 580], [196, 379, 114], [506, 549, 707], [139, 497, 560], [343, 662, 172], [913, 71, 554], [916, 747, 255], [542, 65, 91], [922, 906, 805], [52, 116, 592], [116, 550, 699], [536, 881, 527], [115, 967, 204], [194, 604, 596], [24, 88, 456], [689, 508, 817], [343, 195, 665], [978, 783, 152], [103, 984, 368], [134, 521, 507], [468, 270, 652], [626, 163, 13], [850, 305, 288], [441, 977, 70], [62, 864, 478], [721, 299, 315], [767, 646, 872], [227, 284, 1], [975, 426, 832], [588, 353, 575], [347, 740, 322], [875, 592, 760], [201, 113, 267], [489, 392, 22], [3, 353, 381], [308, 22, 759], [926, 774, 168], [525, 498, 977], [553, 143, 155], [199, 89, 151], [100, 835, 805], [421, 928, 667], [675, 670, 677], [540, 500, 353], [601, 470, 67], [986, 608, 622], [212, 185, 223], [379, 758, 557], [957, 670, 821], [159, 611, 116], [3, 95, 499], [970, 51, 653], [608, 84, 662], [990, 53, 454], [824, 221, 927], [930, 466, 435], [632, 26, 818], [615, 982, 186], [368, 542, 209], [44, 218, 61], [203, 953, 413], [83, 244, 461], [297, 936, 764], [420, 677, 149], [524, 985, 240], [703, 574, 59], [134, 743, 523], [274, 439, 723], [568, 314, 696], [26, 514, 290], [165, 521, 68], [394, 644, 77], [916, 443, 200], [224, 815, 606], [350, 175, 986], [50, 456, 372], [817, 880, 605], [401, 757, 802], [632, 870, 342], [816, 267, 220], [226, 181, 339]]\n"
          ],
          "name": "stdout"
        }
      ]
    },
    {
      "cell_type": "markdown",
      "metadata": {
        "id": "tGkGzWUTSCqV",
        "colab_type": "text"
      },
      "source": [
        "# Train The Model\n",
        "We have the training set ready, so create a Linear Regression Model and pass it the training data.\n"
      ]
    },
    {
      "cell_type": "code",
      "metadata": {
        "id": "WgNSMGVVPybI",
        "colab_type": "code",
        "colab": {
          "base_uri": "https://localhost:8080/",
          "height": 33
        },
        "outputId": "333d0767-93e1-427a-c9de-0d442f953624"
      },
      "source": [
        "from sklearn.linear_model import LinearRegression\n",
        "\n",
        "predictor = LinearRegression(n_jobs=1)\n",
        "predictor.fit(X=TRAIN_INPUT, y=TRAIN_OUTPUT)"
      ],
      "execution_count": 16,
      "outputs": [
        {
          "output_type": "execute_result",
          "data": {
            "text/plain": [
              "LinearRegression(copy_X=True, fit_intercept=True, n_jobs=1, normalize=False)"
            ]
          },
          "metadata": {
            "tags": []
          },
          "execution_count": 16
        }
      ]
    },
    {
      "cell_type": "markdown",
      "metadata": {
        "id": "SO0hLJOYS5_6",
        "colab_type": "text"
      },
      "source": [
        "# Test Data"
      ]
    },
    {
      "cell_type": "code",
      "metadata": {
        "id": "7WUQSOp-P2uK",
        "colab_type": "code",
        "colab": {
          "base_uri": "https://localhost:8080/",
          "height": 50
        },
        "outputId": "e4cda32d-2803-44ab-a1c8-23eea2189cef"
      },
      "source": [
        "\n",
        "X_TEST = [[20, 40, 50],[10,10,20]]\n",
        "outcome = predictor.predict(X=X_TEST)\n",
        "coefficients = predictor.coef_\n",
        "\n",
        "print('Outcome : {}\\nCoefficients : {}'.format(outcome, coefficients))"
      ],
      "execution_count": 17,
      "outputs": [
        {
          "output_type": "stream",
          "text": [
            "Outcome : [250.  90.]\n",
            "Coefficients : [1. 2. 3.]\n"
          ],
          "name": "stdout"
        }
      ]
    },
    {
      "cell_type": "code",
      "metadata": {
        "id": "zghvLD3XP7AR",
        "colab_type": "code",
        "colab": {}
      },
      "source": [
        "import numpy as np \n",
        "import pandas as pd \n",
        "import matplotlib.pyplot as plt"
      ],
      "execution_count": 0,
      "outputs": []
    },
    {
      "cell_type": "code",
      "metadata": {
        "id": "0Ud8P-96UDjE",
        "colab_type": "code",
        "colab": {
          "base_uri": "https://localhost:8080/",
          "height": 332
        },
        "outputId": "52d129e4-390e-46d0-e4db-a5844a9bc84f"
      },
      "source": [
        "#Visualizing the training Test Results \n",
        "TRAIN_INPUT_AVERAGE = [ sum(row)/3 for row in TRAIN_INPUT] \n",
        "\n",
        "plt.scatter(TRAIN_INPUT_AVERAGE , TRAIN_OUTPUT, color= 'red') \n",
        "\n",
        "plt.title (\"Visuals for Training Dataset\")\n",
        "plt.xlabel(\"TRAIN_INPUT\")\n",
        "plt.ylabel(\"TRAIN_OUTPUT\")\n",
        "plt.show()\n"
      ],
      "execution_count": 31,
      "outputs": [
        {
          "output_type": "stream",
          "text": [
            "[135.0, 597.6666666666666, 434.3333333333333, 660.0, 267.0, 531.3333333333334, 500.3333333333333, 362.3333333333333, 554.6666666666666, 492.6666666666667, 160.0, 933.0, 874.3333333333334, 687.6666666666666, 563.3333333333334, 378.3333333333333, 271.3333333333333, 543.3333333333334, 712.0, 542.6666666666666, 229.66666666666666, 587.3333333333334, 398.6666666666667, 392.3333333333333, 512.6666666666666, 639.3333333333334, 232.66666666666666, 877.6666666666666, 253.33333333333334, 455.0, 648.0, 428.6666666666667, 464.6666666666667, 189.33333333333334, 671.3333333333334, 401.0, 637.6666666666666, 485.0, 387.3333333333333, 463.3333333333333, 267.3333333333333, 481.0, 496.0, 468.0, 445.0, 761.6666666666666, 170.66666666666666, 744.3333333333334, 505.3333333333333, 469.6666666666667, 742.3333333333334, 193.66666666666666, 301.0, 245.66666666666666, 363.0, 622.6666666666666, 666.6666666666666, 283.6666666666667, 146.33333333333334, 580.0, 672.0, 674.0, 464.3333333333333, 379.3333333333333, 738.6666666666666, 206.66666666666666, 564.6666666666666, 816.0, 295.3333333333333, 199.0, 558.0, 451.3333333333333, 499.0, 657.3333333333334, 610.3333333333334, 492.0, 594.3333333333334, 373.0, 107.66666666666667, 523.0, 262.6666666666667, 665.6666666666666, 415.3333333333333, 583.0, 445.3333333333333, 466.6666666666667, 478.6666666666667, 526.0, 276.6666666666667, 251.33333333333334, 371.6666666666667, 519.6666666666666, 548.3333333333334, 503.6666666666667, 292.6666666666667, 767.3333333333334, 653.3333333333334, 614.6666666666666, 434.3333333333333, 248.66666666666666]\n"
          ],
          "name": "stdout"
        },
        {
          "output_type": "display_data",
          "data": {
            "image/png": "[encoded data removed]",
            "text/plain": [
              "<Figure size 432x288 with 1 Axes>"
            ]
          },
          "metadata": {
            "tags": []
          }
        }
      ]
    },
    {
      "cell_type": "code",
      "metadata": {
        "id": "s0IXb_6YVB2l",
        "colab_type": "code",
        "colab": {}
      },
      "source": [
        ""
      ],
      "execution_count": 0,
      "outputs": []
    },
    {
      "cell_type": "code",
      "metadata": {
        "id": "QPEs3nu2XhUu",
        "colab_type": "code",
        "colab": {}
      },
      "source": [
        ""
      ],
      "execution_count": 0,
      "outputs": []
    }
  ]
}